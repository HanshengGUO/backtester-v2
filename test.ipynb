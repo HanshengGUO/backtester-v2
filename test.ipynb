{
 "cells": [
  {
   "cell_type": "code",
   "execution_count": 22,
   "metadata": {},
   "outputs": [],
   "source": [
    "from fee_rate_provider import FeeRateProvider"
   ]
  },
  {
   "cell_type": "code",
   "execution_count": 2,
   "metadata": {},
   "outputs": [],
   "source": [
    "from datetime import datetime"
   ]
  },
  {
   "cell_type": "code",
   "execution_count": null,
   "metadata": {},
   "outputs": [],
   "source": []
  },
  {
   "cell_type": "code",
   "execution_count": 13,
   "metadata": {},
   "outputs": [
    {
     "name": "stdout",
     "output_type": "stream",
     "text": [
      "{'code': '0', 'data': [], 'msg': ''}\n"
     ]
    }
   ],
   "source": [
    "from crypto.api.okex.api_v5 import OkexAPI\n",
    "api = OkexAPI()\n",
    "start_timestamp = \"1742735779000\"\n",
    "end_timestamp = \"1742822179000\"\n",
    "json_data = api.get_funding_rate_history(instId='BTC-USDT-SWAP', before=start_timestamp, after=end_timestamp)\n",
    "print(json_data)"
   ]
  },
  {
   "cell_type": "code",
   "execution_count": 20,
   "metadata": {},
   "outputs": [
    {
     "name": "stdout",
     "output_type": "stream",
     "text": [
      "{'code': '0', 'data': [{'fundingRate': '0.0000092948083484', 'fundingTime': '1742716800000', 'instId': 'BTC-USDT-SWAP', 'instType': 'SWAP', 'method': 'current_period', 'realizedRate': '0.0000092948083484'}, {'fundingRate': '-0.0000298397690127', 'fundingTime': '1742688000000', 'instId': 'BTC-USDT-SWAP', 'instType': 'SWAP', 'method': 'current_period', 'realizedRate': '-0.0000298397690127'}, {'fundingRate': '-0.0000278924637405', 'fundingTime': '1742659200000', 'instId': 'BTC-USDT-SWAP', 'instType': 'SWAP', 'method': 'current_period', 'realizedRate': '-0.0000278924637405'}], 'msg': ''}\n"
     ]
    }
   ],
   "source": [
    "print(api.get_funding_rate_history(\"BTC-USDT-SWAP\", before=\"1742642179000\"))\n"
   ]
  },
  {
   "cell_type": "code",
   "execution_count": 23,
   "metadata": {},
   "outputs": [
    {
     "name": "stdout",
     "output_type": "stream",
     "text": [
      "====== 测试获取当天的资金费率 ======\n"
     ]
    }
   ],
   "source": [
    "# 测试代码\n",
    "provider = FeeRateProvider(\"okex\")\n",
    "\n",
    "# 测试获取当天的资金费率\n",
    "print(\"====== 测试获取当天的资金费率 ======\")\n",
    "rates = provider.get_daily_funding_rates(\"2025-03-30\")\n",
    "for ts, rate in rates.items():\n",
    "    dt = datetime.fromtimestamp(ts)\n",
    "    print(f\"{dt}: {rate}\")"
   ]
  },
  {
   "cell_type": "code",
   "execution_count": null,
   "metadata": {},
   "outputs": [],
   "source": []
  }
 ],
 "metadata": {
  "kernelspec": {
   "display_name": "Python 3",
   "language": "python",
   "name": "python3"
  },
  "language_info": {
   "codemirror_mode": {
    "name": "ipython",
    "version": 3
   },
   "file_extension": ".py",
   "mimetype": "text/x-python",
   "name": "python",
   "nbconvert_exporter": "python",
   "pygments_lexer": "ipython3",
   "version": "3.8.20"
  }
 },
 "nbformat": 4,
 "nbformat_minor": 2
}
